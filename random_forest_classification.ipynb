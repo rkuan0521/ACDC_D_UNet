{
 "cells": [
  {
   "cell_type": "markdown",
   "metadata": {
    "colab_type": "text",
    "id": "0MRC0e0KhQ0S"
   },
   "source": [
    "# Random Forest Classification"
   ]
  },
  {
   "cell_type": "markdown",
   "metadata": {
    "colab_type": "text",
    "id": "LWd1UlMnhT2s"
   },
   "source": [
    "## Importing the libraries"
   ]
  },
  {
   "cell_type": "code",
   "execution_count": 1,
   "metadata": {
    "colab": {},
    "colab_type": "code",
    "id": "YvGPUQaHhXfL"
   },
   "outputs": [],
   "source": [
    "import numpy as np\n",
    "import matplotlib.pyplot as plt\n",
    "import pandas as pd\n",
    "from sklearn.preprocessing import LabelEncoder\n",
    "from sklearn.impute import SimpleImputer\n",
    "import os"
   ]
  },
  {
   "cell_type": "markdown",
   "metadata": {
    "colab_type": "text",
    "id": "K1VMqkGvhc3-"
   },
   "source": [
    "## Importing the dataset"
   ]
  },
  {
   "cell_type": "code",
   "execution_count": 2,
   "metadata": {},
   "outputs": [],
   "source": [
    "dataset = pd.read_csv('allFeatures.csv')\n",
    "dataset.replace([np.inf, -np.inf], np.nan,inplace=True)"
   ]
  },
  {
   "cell_type": "code",
   "execution_count": 3,
   "metadata": {
    "colab": {},
    "colab_type": "code",
    "id": "M52QDmyzhh9s"
   },
   "outputs": [],
   "source": [
    "dataset = pd.read_csv('allFeatures.csv')\n",
    "dataset.replace([np.inf, -np.inf], np.nan,inplace=True)\n",
    "dataset[\"EDmeanMiddleThicknessLVM\"] = dataset[\"EDmeanMiddleThicknessLVM\"].fillna( dataset[\"EDmeanMiddleThicknessLVM\"].mean() )\n",
    "dataset[\"EDstdMiddleThicknessLVM\"] = dataset[\"EDstdMiddleThicknessLVM\"].fillna( dataset[\"EDstdMiddleThicknessLVM\"].mean() )\n",
    "dataset[\"ESmeanCircularity1\"] = dataset[\"ESmeanCircularity1\"].fillna( dataset[\"ESmeanCircularity1\"].mean() )\n",
    "dataset[\"ESmeanCircularity3\"] = dataset[\"ESmeanCircularity3\"].fillna( dataset[\"ESmeanCircularity3\"].mean() )\n",
    "dataset[\"EDmeanCircularity1\"] = dataset[\"EDmeanCircularity1\"].fillna( dataset[\"EDmeanCircularity1\"].mean() )\n",
    "dataset[\"EDmeanCircularity2\"] = dataset[\"EDmeanCircularity2\"].fillna( dataset[\"EDmeanCircularity2\"].mean() )\n",
    "dataset[\"vminLVM_vminLVC\"] = dataset[\"vminLVM_vminLVC\"].fillna( dataset[\"vminLVM_vminLVC\"].mean() )\n"
   ]
  },
  {
   "cell_type": "code",
   "execution_count": 4,
   "metadata": {},
   "outputs": [
    {
     "name": "stdout",
     "output_type": "stream",
     "text": [
      "<class 'pandas.core.frame.DataFrame'>\n",
      "RangeIndex: 100 entries, 0 to 99\n",
      "Data columns (total 77 columns):\n",
      " #   Column                    Non-Null Count  Dtype  \n",
      "---  ------                    --------------  -----  \n",
      " 0   Unnamed: 0                100 non-null    int64  \n",
      " 1   Height                    100 non-null    float64\n",
      " 2   Weight                    100 non-null    float64\n",
      " 3   BMI                       100 non-null    float64\n",
      " 4   BSA                       100 non-null    float64\n",
      " 5   Thickness                 100 non-null    float64\n",
      " 6   EDmaxThicknessRVC         100 non-null    float64\n",
      " 7   EDminThicknessRVC         100 non-null    float64\n",
      " 8   EDstdThicknessRVC         100 non-null    float64\n",
      " 9   EDmeanThicknessRVC        100 non-null    float64\n",
      " 10  EDmaxThicknessLVC         100 non-null    float64\n",
      " 11  EDminThicknessLVC         100 non-null    float64\n",
      " 12  EDstdThicknessLVC         100 non-null    float64\n",
      " 13  EDmeanThicknessLVC        100 non-null    float64\n",
      " 14  EDmaxThicknessLVM         100 non-null    float64\n",
      " 15  EDminThicknessLVM         100 non-null    float64\n",
      " 16  EDstdThicknessLVM         100 non-null    float64\n",
      " 17  EDmeanThicknessLVM        100 non-null    float64\n",
      " 18  EDmeanMiddleThicknessLVM  100 non-null    float64\n",
      " 19  EDstdMiddleThicknessLVM   100 non-null    float64\n",
      " 20  EDmeanCircularity1        100 non-null    float64\n",
      " 21  EDmeanCircularity2        100 non-null    float64\n",
      " 22  EDmeanCircularity3        100 non-null    float64\n",
      " 23  EDmaxP1                   100 non-null    float64\n",
      " 24  EDmeanP1                  100 non-null    float64\n",
      " 25  EDmaxP2                   100 non-null    float64\n",
      " 26  EDmeanP2                  100 non-null    float64\n",
      " 27  EDmaxP3                   100 non-null    float64\n",
      " 28  EDmeanP3                  100 non-null    float64\n",
      " 29  EDRVCApicalLVM            100 non-null    float64\n",
      " 30  EDRVCToLVC                100 non-null    float64\n",
      " 31  ESmaxThicknessRVC         100 non-null    float64\n",
      " 32  ESminThicknessRVC         100 non-null    float64\n",
      " 33  ESstdThicknessRVC         100 non-null    float64\n",
      " 34  ESmeanThicknessRVC        100 non-null    float64\n",
      " 35  ESmaxThicknessLVC         100 non-null    float64\n",
      " 36  ESminThicknessLVC         100 non-null    float64\n",
      " 37  ESstdThicknessLVC         100 non-null    float64\n",
      " 38  ESmeanThicknessLVC        100 non-null    float64\n",
      " 39  ESmaxThicknessLVM         100 non-null    float64\n",
      " 40  ESminThicknessLVM         100 non-null    float64\n",
      " 41  ESstdThicknessLVM         100 non-null    float64\n",
      " 42  ESmeanThicknessLVM        100 non-null    float64\n",
      " 43  ESmeanMiddleThicknessLVM  100 non-null    float64\n",
      " 44  ESstdMiddleThicknessLVM   100 non-null    float64\n",
      " 45  ESmeanCircularity1        100 non-null    float64\n",
      " 46  ESmeanCircularity2        100 non-null    float64\n",
      " 47  ESmeanCircularity3        100 non-null    float64\n",
      " 48  ESmaxP1                   100 non-null    float64\n",
      " 49  ESmeanP1                  100 non-null    float64\n",
      " 50  ESmaxP2                   100 non-null    float64\n",
      " 51  ESmeanP2                  100 non-null    float64\n",
      " 52  ESmaxP3                   100 non-null    float64\n",
      " 53  ESmeanP3                  100 non-null    float64\n",
      " 54  ESRVCApicalLVM            100 non-null    float64\n",
      " 55  vMaxRVC                   100 non-null    float64\n",
      " 56  vMaxMyo                   100 non-null    float64\n",
      " 57  vMaxLVC                   100 non-null    float64\n",
      " 58  vMinRVC                   100 non-null    float64\n",
      " 59  vMinMyo                   100 non-null    float64\n",
      " 60  vMinLVC                   100 non-null    float64\n",
      " 61  vMedRVC                   100 non-null    float64\n",
      " 62  vMedMyo                   100 non-null    float64\n",
      " 63  vMedLVC                   100 non-null    float64\n",
      " 64  vkurtosisRVC              100 non-null    float64\n",
      " 65  vkurtosisMyo              100 non-null    float64\n",
      " 66  vkurtosisLVC              100 non-null    float64\n",
      " 67  vskewRVC                  100 non-null    float64\n",
      " 68  vskewMyo                  100 non-null    float64\n",
      " 69  vskewLVC                  100 non-null    float64\n",
      " 70  vstdRVC                   100 non-null    float64\n",
      " 71  vstdMyo                   100 non-null    float64\n",
      " 72  vstdLVC                   100 non-null    float64\n",
      " 73  vminLVC_vminRVC           100 non-null    float64\n",
      " 74  vminLVM_vminLVC           100 non-null    float64\n",
      " 75  vminRVC_vminLVM           100 non-null    float64\n",
      " 76  Group                     100 non-null    object \n",
      "dtypes: float64(75), int64(1), object(1)\n",
      "memory usage: 60.3+ KB\n"
     ]
    }
   ],
   "source": [
    "dataset.info()"
   ]
  },
  {
   "cell_type": "code",
   "execution_count": 5,
   "metadata": {},
   "outputs": [
    {
     "data": {
      "text/plain": [
       "Unnamed: 0         0\n",
       "Height             0\n",
       "Weight             0\n",
       "BMI                0\n",
       "BSA                0\n",
       "                  ..\n",
       "vstdLVC            0\n",
       "vminLVC_vminRVC    0\n",
       "vminLVM_vminLVC    0\n",
       "vminRVC_vminLVM    0\n",
       "Group              0\n",
       "Length: 77, dtype: int64"
      ]
     },
     "execution_count": 5,
     "metadata": {},
     "output_type": "execute_result"
    }
   ],
   "source": [
    "dataset.isnull().sum()"
   ]
  },
  {
   "cell_type": "code",
   "execution_count": 6,
   "metadata": {},
   "outputs": [],
   "source": [
    "X = dataset.iloc[:, 0:-1].values\n",
    "y = dataset.iloc[:, -1].values\n",
    "\n",
    "le = LabelEncoder()\n",
    "y = le.fit_transform(y)"
   ]
  },
  {
   "cell_type": "markdown",
   "metadata": {
    "colab_type": "text",
    "id": "YvxIPVyMhmKp"
   },
   "source": [
    "## Splitting the dataset into the Training set and Test set"
   ]
  },
  {
   "cell_type": "code",
   "execution_count": 7,
   "metadata": {
    "colab": {},
    "colab_type": "code",
    "id": "AVzJWAXIhxoC"
   },
   "outputs": [],
   "source": [
    "from sklearn.model_selection import train_test_split\n",
    "X_train, X_test, y_train, y_test = train_test_split(X, y, test_size = 0.2, random_state = 6)\n"
   ]
  },
  {
   "cell_type": "code",
   "execution_count": 8,
   "metadata": {
    "colab": {
     "base_uri": "https://localhost:8080/",
     "height": 171
    },
    "colab_type": "code",
    "executionInfo": {
     "elapsed": 1294,
     "status": "ok",
     "timestamp": 1588269343330,
     "user": {
      "displayName": "Hadelin de Ponteves",
      "photoUrl": "https://lh3.googleusercontent.com/a-/AOh14GhEuXdT7eQweUmRPW8_laJuPggSK6hfvpl5a6WBaA=s64",
      "userId": "15047218817161520419"
     },
     "user_tz": -240
    },
    "id": "8dpDLojm1mVG",
    "outputId": "2a9b0425-9e6d-480f-b32a-ebae6f413dbe"
   },
   "outputs": [
    {
     "name": "stdout",
     "output_type": "stream",
     "text": [
      "[3 1 3 0 4 2 2 0 0 4 3 1 2 2 4 1 4 0 4 2 1 0 2 2 1 2 2 1 1 0 4 0 1 0 4 3 2\n",
      " 0 3 2 2 0 3 2 4 4 4 1 0 3 3 4 4 0 2 3 2 0 4 0 3 1 3 0 0 4 3 1 1 2 3 3 0 1\n",
      " 3 4 3 4 3 0]\n"
     ]
    }
   ],
   "source": [
    "print(y_train)\n"
   ]
  },
  {
   "cell_type": "code",
   "execution_count": 9,
   "metadata": {
    "colab": {
     "base_uri": "https://localhost:8080/",
     "height": 1000
    },
    "colab_type": "code",
    "executionInfo": {
     "elapsed": 1613,
     "status": "ok",
     "timestamp": 1588269343657,
     "user": {
      "displayName": "Hadelin de Ponteves",
      "photoUrl": "https://lh3.googleusercontent.com/a-/AOh14GhEuXdT7eQweUmRPW8_laJuPggSK6hfvpl5a6WBaA=s64",
      "userId": "15047218817161520419"
     },
     "user_tz": -240
    },
    "id": "qbb7i0DH1qui",
    "outputId": "b10e7737-ae02-4c0c-b49f-8d961e2921b4"
   },
   "outputs": [
    {
     "name": "stdout",
     "output_type": "stream",
     "text": [
      "[[1.70000000e+01 1.61000000e+02 7.90000000e+01 ... 1.33322612e+00\n",
      "  5.90349819e-01 1.27053535e+00]\n",
      " [3.40000000e+01 1.70000000e+02 8.00000000e+01 ... 8.38535414e-01\n",
      "  2.40443808e+00 4.95980947e-01]\n",
      " [0.00000000e+00 1.84000000e+02 9.50000000e+01 ... 3.10959940e+00\n",
      "  8.50267380e-01 3.78216123e-01]\n",
      " ...\n",
      " [9.30000000e+01 1.64000000e+02 4.50000000e+01 ... 8.02816901e-02\n",
      "  6.79824561e-01 1.83225806e+01]\n",
      " [3.70000000e+01 1.60000000e+02 5.90000000e+01 ... 7.37680438e-01\n",
      "  2.23661718e+00 6.06094127e-01]\n",
      " [8.30000000e+01 1.40000000e+02 3.50000000e+01 ... 3.12231100e-01\n",
      "  1.53543307e-01 2.08589744e+01]]\n"
     ]
    }
   ],
   "source": [
    "print(X_test)\n"
   ]
  },
  {
   "cell_type": "code",
   "execution_count": 10,
   "metadata": {
    "colab": {
     "base_uri": "https://localhost:8080/",
     "height": 68
    },
    "colab_type": "code",
    "executionInfo": {
     "elapsed": 1608,
     "status": "ok",
     "timestamp": 1588269343658,
     "user": {
      "displayName": "Hadelin de Ponteves",
      "photoUrl": "https://lh3.googleusercontent.com/a-/AOh14GhEuXdT7eQweUmRPW8_laJuPggSK6hfvpl5a6WBaA=s64",
      "userId": "15047218817161520419"
     },
     "user_tz": -240
    },
    "id": "kj1hnFAR1s5w",
    "outputId": "1f3a92ea-9844-4d4c-ca5f-075fa4ba98e0"
   },
   "outputs": [
    {
     "name": "stdout",
     "output_type": "stream",
     "text": [
      "[0 1 0 2 3 4 1 2 2 4 3 3 1 1 1 1 2 4 1 4]\n"
     ]
    }
   ],
   "source": [
    "print(y_test)\n"
   ]
  },
  {
   "cell_type": "markdown",
   "metadata": {
    "colab_type": "text",
    "id": "kW3c7UYih0hT"
   },
   "source": [
    "## Feature Scaling"
   ]
  },
  {
   "cell_type": "code",
   "execution_count": 11,
   "metadata": {
    "colab": {},
    "colab_type": "code",
    "id": "9fQlDPKCh8sc"
   },
   "outputs": [],
   "source": [
    "from sklearn.preprocessing import StandardScaler\n",
    "sc = StandardScaler()\n",
    "X_train = sc.fit_transform(X_train)\n",
    "X_test = sc.transform(X_test)"
   ]
  },
  {
   "cell_type": "code",
   "execution_count": 12,
   "metadata": {
    "colab": {
     "base_uri": "https://localhost:8080/",
     "height": 1000
    },
    "colab_type": "code",
    "executionInfo": {
     "elapsed": 1600,
     "status": "ok",
     "timestamp": 1588269343659,
     "user": {
      "displayName": "Hadelin de Ponteves",
      "photoUrl": "https://lh3.googleusercontent.com/a-/AOh14GhEuXdT7eQweUmRPW8_laJuPggSK6hfvpl5a6WBaA=s64",
      "userId": "15047218817161520419"
     },
     "user_tz": -240
    },
    "id": "syrnD1Op2BSR",
    "outputId": "b1fa2925-b7de-4530-b015-01bb51e742b4"
   },
   "outputs": [
    {
     "name": "stdout",
     "output_type": "stream",
     "text": [
      "[[ 0.81083803  0.91885222  1.12514168 ... -0.54844008 -0.46886384\n",
      "   1.24427806]\n",
      " [-0.70082272 -2.2392769  -1.30087217 ... -0.48571005  3.63017991\n",
      "  -0.70061577]\n",
      " [ 0.5756908  -1.80367288 -0.67881733 ... -0.53140315 -0.48918045\n",
      "   1.14969613]\n",
      " ...\n",
      " [ 1.14676264  0.15654519 -0.86543378 ... -0.59190558 -0.36025794\n",
      "   1.38966562]\n",
      " [ 0.77724557  0.48324821  0.75190878 ... -0.4430612  -0.16602095\n",
      "  -0.0771311 ]\n",
      " [-1.33907948  1.02775323 -0.30558444 ... -0.10652857 -0.56682721\n",
      "  -0.08925882]]\n"
     ]
    }
   ],
   "source": [
    "print(X_train)"
   ]
  },
  {
   "cell_type": "markdown",
   "metadata": {
    "colab_type": "text",
    "id": "bb6jCOCQiAmP"
   },
   "source": [
    "## Training the Random Forest Classification model on the Training set"
   ]
  },
  {
   "cell_type": "code",
   "execution_count": 13,
   "metadata": {
    "colab": {
     "base_uri": "https://localhost:8080/",
     "height": 154
    },
    "colab_type": "code",
    "executionInfo": {
     "elapsed": 1589,
     "status": "ok",
     "timestamp": 1588269343659,
     "user": {
      "displayName": "Hadelin de Ponteves",
      "photoUrl": "https://lh3.googleusercontent.com/a-/AOh14GhEuXdT7eQweUmRPW8_laJuPggSK6hfvpl5a6WBaA=s64",
      "userId": "15047218817161520419"
     },
     "user_tz": -240
    },
    "id": "e0pFVAmciHQs",
    "outputId": "79719013-2ffa-49f6-b49c-886d9ba19525"
   },
   "outputs": [
    {
     "data": {
      "text/plain": [
       "RandomForestClassifier(criterion='entropy', n_estimators=1000, random_state=0)"
      ]
     },
     "execution_count": 13,
     "metadata": {},
     "output_type": "execute_result"
    }
   ],
   "source": [
    "from sklearn.ensemble import RandomForestClassifier\n",
    "classifier = RandomForestClassifier(n_estimators = 1000, criterion = 'entropy', random_state = 0)\n",
    "classifier.fit(X_train, y_train)\n"
   ]
  },
  {
   "cell_type": "markdown",
   "metadata": {
    "colab_type": "text",
    "id": "yyxW5b395mR2"
   },
   "source": [
    "## Predicting a new result"
   ]
  },
  {
   "cell_type": "code",
   "execution_count": 14,
   "metadata": {},
   "outputs": [
    {
     "data": {
      "text/plain": [
       "array([[-1.10393225, -1.04136585,  0.25426491, ..., -0.17659882,\n",
       "        -0.63843931,  0.2353077 ],\n",
       "       [-0.53286041, -0.06125681,  0.3164704 , ..., -0.37911444,\n",
       "         0.19402418, -0.42630634],\n",
       "       [-1.67500409,  1.46335724,  1.24955264, ...,  0.5506098 ,\n",
       "        -0.51916623, -0.52689948],\n",
       "       ...,\n",
       "       [ 1.44909479, -0.71466284, -1.86072151, ..., -0.68952703,\n",
       "        -0.59738041, 14.80093731],\n",
       "       [-0.43208303, -1.15026686, -0.98984475, ..., -0.42040227,\n",
       "         0.11701317, -0.33224913],\n",
       "       [ 1.11317018, -3.32828694, -2.48277635, ..., -0.59457199,\n",
       "        -0.83888461, 16.96749098]])"
      ]
     },
     "execution_count": 14,
     "metadata": {},
     "output_type": "execute_result"
    }
   ],
   "source": [
    "X_test"
   ]
  },
  {
   "cell_type": "markdown",
   "metadata": {
    "colab_type": "text",
    "id": "vKYVQH-l5NpE"
   },
   "source": [
    "## Predicting the Test set results"
   ]
  },
  {
   "cell_type": "code",
   "execution_count": 15,
   "metadata": {
    "colab": {
     "base_uri": "https://localhost:8080/",
     "height": 1000
    },
    "colab_type": "code",
    "executionInfo": {
     "elapsed": 1578,
     "status": "ok",
     "timestamp": 1588269343660,
     "user": {
      "displayName": "Hadelin de Ponteves",
      "photoUrl": "https://lh3.googleusercontent.com/a-/AOh14GhEuXdT7eQweUmRPW8_laJuPggSK6hfvpl5a6WBaA=s64",
      "userId": "15047218817161520419"
     },
     "user_tz": -240
    },
    "id": "p6VMTb2O4hwM",
    "outputId": "f160d9d3-e4cd-4484-db9d-99028dfed42d"
   },
   "outputs": [],
   "source": [
    "y_pred = classifier.predict(X_test)\n",
    "#print(np.concatenate((y_pred.reshape(len(y_pred),1), y_test.reshape(len(y_test),1)),1))"
   ]
  },
  {
   "cell_type": "code",
   "execution_count": 16,
   "metadata": {},
   "outputs": [
    {
     "data": {
      "text/plain": [
       "array([0, 1, 0, 2, 3, 4, 1, 2, 2, 4, 3, 3, 1, 1, 1, 1, 2, 4, 1, 4])"
      ]
     },
     "execution_count": 16,
     "metadata": {},
     "output_type": "execute_result"
    }
   ],
   "source": [
    "y_test"
   ]
  },
  {
   "cell_type": "code",
   "execution_count": 17,
   "metadata": {},
   "outputs": [
    {
     "data": {
      "text/plain": [
       "array([0, 1, 0, 2, 3, 2, 1, 2, 2, 4, 3, 3, 1, 1, 2, 1, 2, 4, 1, 4])"
      ]
     },
     "execution_count": 17,
     "metadata": {},
     "output_type": "execute_result"
    }
   ],
   "source": [
    "y_pred"
   ]
  },
  {
   "cell_type": "markdown",
   "metadata": {
    "colab_type": "text",
    "id": "h4Hwj34ziWQW"
   },
   "source": [
    "## Making the Confusion Matrix"
   ]
  },
  {
   "cell_type": "code",
   "execution_count": 18,
   "metadata": {
    "colab": {
     "base_uri": "https://localhost:8080/",
     "height": 68
    },
    "colab_type": "code",
    "executionInfo": {
     "elapsed": 1898,
     "status": "ok",
     "timestamp": 1588269343985,
     "user": {
      "displayName": "Hadelin de Ponteves",
      "photoUrl": "https://lh3.googleusercontent.com/a-/AOh14GhEuXdT7eQweUmRPW8_laJuPggSK6hfvpl5a6WBaA=s64",
      "userId": "15047218817161520419"
     },
     "user_tz": -240
    },
    "id": "D6bpZwUiiXic",
    "outputId": "b4ab126b-4118-461e-f02a-cfe538ae6a71"
   },
   "outputs": [
    {
     "name": "stdout",
     "output_type": "stream",
     "text": [
      "[[2 0 0 0 0]\n",
      " [0 6 1 0 0]\n",
      " [0 0 4 0 0]\n",
      " [0 0 0 3 0]\n",
      " [0 0 1 0 3]]\n"
     ]
    },
    {
     "data": {
      "text/plain": [
       "0.9"
      ]
     },
     "execution_count": 18,
     "metadata": {},
     "output_type": "execute_result"
    }
   ],
   "source": [
    "from sklearn.metrics import confusion_matrix, accuracy_score\n",
    "cm = confusion_matrix(y_test, y_pred)\n",
    "print(cm)\n",
    "accuracy_score(y_test, y_pred)\n"
   ]
  },
  {
   "cell_type": "code",
   "execution_count": null,
   "metadata": {},
   "outputs": [],
   "source": []
  }
 ],
 "metadata": {
  "colab": {
   "authorship_tag": "ABX9TyPA7K2PAkEFgaKFIvslUMEc",
   "collapsed_sections": [],
   "machine_shape": "hm",
   "name": "random_forest_classification.ipynb",
   "provenance": [],
   "toc_visible": true
  },
  "kernelspec": {
   "display_name": "Python 3",
   "language": "python",
   "name": "python3"
  },
  "language_info": {
   "codemirror_mode": {
    "name": "ipython",
    "version": 3
   },
   "file_extension": ".py",
   "mimetype": "text/x-python",
   "name": "python",
   "nbconvert_exporter": "python",
   "pygments_lexer": "ipython3",
   "version": "3.8.3"
  }
 },
 "nbformat": 4,
 "nbformat_minor": 4
}
